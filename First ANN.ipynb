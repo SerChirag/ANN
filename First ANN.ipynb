{
 "cells": [
  {
   "cell_type": "code",
   "execution_count": 19,
   "metadata": {},
   "outputs": [],
   "source": [
    "import numpy as np\n",
    "# The training set. We have 4 examples, each consisting of 3 input values\n",
    "# and 1 output value.\n",
    "training_set_inputs = np.array([[0, 0, 1], [1, 1, 1], [1, 0, 1], [0, 1, 0]])\n",
    "training_set_outputs = np.array([[0, 1, 1, 0]]).T"
   ]
  },
  {
   "cell_type": "code",
   "execution_count": 29,
   "metadata": {},
   "outputs": [],
   "source": [
    "class NeuralNetwork():\n",
    "    def __init__(self):\n",
    "        np.random.seed(1)\n",
    "        self.synaptic_weights = 2 * np.random.random((3,1)) - 1\n",
    "    \n",
    "    def __sigmoid(self, x):\n",
    "        return 1 / (1 + np.exp(-x))\n",
    "    \n",
    "    def __sigmoid_derivative(self, x):\n",
    "        return x * (1 - x)\n",
    "    \n",
    "    def train(self, training_set_inputs, training_set_outputs, number_of_training_iterations):\n",
    "        for iteration in iter(range(number_of_training_iterations)):\n",
    "            \n",
    "            output = self.think(training_set_inputs)\n",
    "            error = training_set_outputs - output\n",
    "            adjustment = np.dot(training_set_inputs.T, error * self.__sigmoid_derivative(output))\n",
    "            self.synaptic_weights += adjustment\n",
    "            if (iteration % 1000 == 0):\n",
    "                print (\"error after %s iterations: %s\" % (iteration, str(np.mean(np.abs(error)))))\n",
    "\n",
    "    def think(self, inputs):\n",
    "        return self.__sigmoid(np.dot(inputs, self.synaptic_weights))\n"
   ]
  },
  {
   "cell_type": "code",
   "execution_count": 31,
   "metadata": {},
   "outputs": [
    {
     "name": "stdout",
     "output_type": "stream",
     "text": [
      "Random starting synaptic weights: \n",
      "[[-0.16595599]\n",
      " [ 0.44064899]\n",
      " [-0.99977125]]\n",
      "error after 0 iterations: 0.5783740467215804\n",
      "error after 1000 iterations: 0.03537718145118489\n",
      "error after 2000 iterations: 0.02432331958404569\n",
      "error after 3000 iterations: 0.01960750223578447\n",
      "error after 4000 iterations: 0.016850233908000063\n",
      "error after 5000 iterations: 0.014991814044012227\n",
      "error after 6000 iterations: 0.013632093530477691\n",
      "error after 7000 iterations: 0.012582423010014297\n",
      "error after 8000 iterations: 0.011740828940893677\n",
      "error after 9000 iterations: 0.011046778132228027\n",
      "error after 10000 iterations: 0.01046179083651172\n",
      "error after 11000 iterations: 0.009960091497996523\n",
      "error after 12000 iterations: 0.009523684798749045\n",
      "error after 13000 iterations: 0.009139578271564044\n",
      "error after 14000 iterations: 0.008798127079018914\n",
      "error after 15000 iterations: 0.008492001958168465\n",
      "error after 16000 iterations: 0.00821552091540053\n",
      "error after 17000 iterations: 0.007964202333507439\n",
      "error after 18000 iterations: 0.007734457755183478\n",
      "error after 19000 iterations: 0.007523375542768721\n",
      "New synaptic weights after training: \n",
      "[[13.87177605]\n",
      " [-4.57527028]\n",
      " [-4.57521412]]\n",
      "Considering new situation [0, 0, 0] -> ?: \n",
      "[0.5]\n"
     ]
    }
   ],
   "source": [
    "neural_network = NeuralNetwork()\n",
    "\n",
    "print (\"Random starting synaptic weights: \")\n",
    "print (neural_network.synaptic_weights)\n",
    "\n",
    "neural_network.train(training_set_inputs, training_set_outputs, 20000)\n",
    "\n",
    "print (\"New synaptic weights after training: \")\n",
    "print (neural_network.synaptic_weights)\n",
    "\n",
    "test = [0, 0, 0]\n",
    "print (\"Considering new situation %s -> ?: \" % test )\n",
    "print (neural_network.think(np.array(test)))"
   ]
  },
  {
   "cell_type": "code",
   "execution_count": null,
   "metadata": {},
   "outputs": [],
   "source": []
  },
  {
   "cell_type": "code",
   "execution_count": null,
   "metadata": {},
   "outputs": [],
   "source": []
  }
 ],
 "metadata": {
  "kernelspec": {
   "display_name": "Python 2",
   "language": "python",
   "name": "python2"
  },
  "language_info": {
   "codemirror_mode": {
    "name": "ipython",
    "version": 2
   },
   "file_extension": ".py",
   "mimetype": "text/x-python",
   "name": "python",
   "nbconvert_exporter": "python",
   "pygments_lexer": "ipython2",
   "version": "2.7.12"
  }
 },
 "nbformat": 4,
 "nbformat_minor": 2
}
